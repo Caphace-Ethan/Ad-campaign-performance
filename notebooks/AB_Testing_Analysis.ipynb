{
 "cells": [
  {
   "cell_type": "markdown",
   "source": [
    "## Ad campaign performance Testing using A/B Hypothesis Testing\n",
    "\n",
    "### Classic and sequential A/B testing analysis on \"Ad campaign performance\"\n",
    "\n",
    "- The main objective of this project is to test if the ads that the advertising company runs resulted in a significant lift in brand \"Lux\" awareness. "
   ],
   "metadata": {}
  },
  {
   "cell_type": "markdown",
   "source": [
    "### Required: \n",
    "#### Perform data exploration to count unique values of categorical variables, make histogram, relational, and other necessary plots to help understand the data."
   ],
   "metadata": {}
  }
 ],
 "metadata": {
  "orig_nbformat": 4,
  "language_info": {
   "name": "python"
  }
 },
 "nbformat": 4,
 "nbformat_minor": 2
}