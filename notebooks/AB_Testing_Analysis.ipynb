{
 "cells": [
  {
   "cell_type": "markdown",
   "source": [
    "## Ad campaign performance Testing using A/B Hypothesis Testing\n",
    "\n",
    "### Classic and sequential A/B testing analysis on \"Ad campaign performance\"\n",
    "\n",
    "- The main objective of this project is to test if the ads that the advertising company runs resulted in a significant lift in brand \"Lux\" awareness. \n",
    "\n",
    "### Hypothesis of this Analysis:\n",
    "#### 1. Null Hypothesis(Ho) -> \"There is no difference in brand awareness between the exposed and control groups in the current case\"\n",
    "\n",
    "#### 2. Alternate Hypothesis(Ha) -> \"There is difference in brand awareness between the exposed and control groups in the current case\""
   ],
   "metadata": {}
  },
  {
   "cell_type": "markdown",
   "source": [
    "### Required: \n",
    "#### 1.2.1 Performing data exploration to count unique values of categorical variables, make histogram, relational, and other necessary plots to help understand the data.\n",
    "\n",
    "- Importing Neccessary packages and Lading data"
   ],
   "metadata": {}
  },
  {
   "cell_type": "code",
   "execution_count": 1,
   "source": [
    "# Importing Neccessary packages\n",
    "import numpy as np\n",
    "import pandas as pd\n",
    "import scipy.stats as stats\n",
    "import statsmodels.stats.api as sms\n",
    "import matplotlib as mpl\n",
    "import matplotlib.pyplot as plt\n",
    "import seaborn as sns\n",
    "from math import ceil"
   ],
   "outputs": [],
   "metadata": {}
  }
 ],
 "metadata": {
  "orig_nbformat": 4,
  "language_info": {
   "name": "python"
  }
 },
 "nbformat": 4,
 "nbformat_minor": 2
}