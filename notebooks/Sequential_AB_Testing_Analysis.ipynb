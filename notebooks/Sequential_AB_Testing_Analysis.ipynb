{
 "cells": [
  {
   "cell_type": "markdown",
   "source": [
    "## Ad campaign performance Testing using A/B Hypothesis Testing\n",
    "\n",
    "### Classic and sequential A/B testing analysis on \"Ad campaign performance\"\n",
    "\n",
    "- The main objective of this project is to test if the ads that the advertising company runs resulted in a significant lift in brand \"Lux\" awareness. \n",
    "\n",
    "### Hypothesis of this Analysis:\n",
    "#### 1. Null Hypothesis(Ho) -> \"There is no difference in brand awareness between the exposed and control groups in the current case\"\n",
    "\n",
    "#### 2. Alternate Hypothesis(Ha) -> \"There is difference in brand awareness between the exposed and control groups in the current case\"\n",
    "\n",
    "### Variables for our A/B Testing Analysis:\n",
    "#### 1. A control group - users that were shown the dummy ad,\n",
    "#### 2. A Exposed/experimental group - Users that were shown the Creative ad."
   ],
   "metadata": {}
  },
  {
   "cell_type": "markdown",
   "source": [
    "### Required: \n",
    "#### 1.2.1 Performing data exploration to count unique values of categorical variables, make histogram, relational, and other necessary plots to help understand the data.\n",
    "\n",
    "- Importing Neccessary packages and Lading data"
   ],
   "metadata": {}
  },
  {
   "cell_type": "code",
   "execution_count": 2,
   "source": [
    "# Importing Neccessary packages\n",
    "import numpy as np\n",
    "import pandas as pd\n",
    "import scipy.stats as stats\n",
    "import statsmodels.stats.api as sms\n",
    "import matplotlib as mpl\n",
    "import matplotlib.pyplot as plt\n",
    "import seaborn as sns\n",
    "from math import ceil"
   ],
   "outputs": [],
   "metadata": {}
  },
  {
   "cell_type": "code",
   "execution_count": 229,
   "source": [
    "# Loading the Data\n",
    "data=pd.read_csv('../data/AdSmartABdata.csv')\n",
    "data.head()"
   ],
   "outputs": [
    {
     "output_type": "execute_result",
     "data": {
      "text/plain": [
       "                             auction_id experiment        date  hour  \\\n",
       "0  0008ef63-77a7-448b-bd1e-075f42c55e39    exposed  2020-07-10     8   \n",
       "1  000eabc5-17ce-4137-8efe-44734d914446    exposed  2020-07-07    10   \n",
       "2  0016d14a-ae18-4a02-a204-6ba53b52f2ed    exposed  2020-07-05     2   \n",
       "3  00187412-2932-4542-a8ef-3633901c98d9    control  2020-07-03    15   \n",
       "4  001a7785-d3fe-4e11-a344-c8735acacc2c    control  2020-07-03    15   \n",
       "\n",
       "          device_make  platform_os                browser  yes  no  \n",
       "0  Generic Smartphone            6          Chrome Mobile    0   0  \n",
       "1  Generic Smartphone            6          Chrome Mobile    0   0  \n",
       "2               E5823            6  Chrome Mobile WebView    0   1  \n",
       "3   Samsung SM-A705FN            6               Facebook    0   0  \n",
       "4  Generic Smartphone            6          Chrome Mobile    0   0  "
      ],
      "text/html": [
       "<div>\n",
       "<style scoped>\n",
       "    .dataframe tbody tr th:only-of-type {\n",
       "        vertical-align: middle;\n",
       "    }\n",
       "\n",
       "    .dataframe tbody tr th {\n",
       "        vertical-align: top;\n",
       "    }\n",
       "\n",
       "    .dataframe thead th {\n",
       "        text-align: right;\n",
       "    }\n",
       "</style>\n",
       "<table border=\"1\" class=\"dataframe\">\n",
       "  <thead>\n",
       "    <tr style=\"text-align: right;\">\n",
       "      <th></th>\n",
       "      <th>auction_id</th>\n",
       "      <th>experiment</th>\n",
       "      <th>date</th>\n",
       "      <th>hour</th>\n",
       "      <th>device_make</th>\n",
       "      <th>platform_os</th>\n",
       "      <th>browser</th>\n",
       "      <th>yes</th>\n",
       "      <th>no</th>\n",
       "    </tr>\n",
       "  </thead>\n",
       "  <tbody>\n",
       "    <tr>\n",
       "      <th>0</th>\n",
       "      <td>0008ef63-77a7-448b-bd1e-075f42c55e39</td>\n",
       "      <td>exposed</td>\n",
       "      <td>2020-07-10</td>\n",
       "      <td>8</td>\n",
       "      <td>Generic Smartphone</td>\n",
       "      <td>6</td>\n",
       "      <td>Chrome Mobile</td>\n",
       "      <td>0</td>\n",
       "      <td>0</td>\n",
       "    </tr>\n",
       "    <tr>\n",
       "      <th>1</th>\n",
       "      <td>000eabc5-17ce-4137-8efe-44734d914446</td>\n",
       "      <td>exposed</td>\n",
       "      <td>2020-07-07</td>\n",
       "      <td>10</td>\n",
       "      <td>Generic Smartphone</td>\n",
       "      <td>6</td>\n",
       "      <td>Chrome Mobile</td>\n",
       "      <td>0</td>\n",
       "      <td>0</td>\n",
       "    </tr>\n",
       "    <tr>\n",
       "      <th>2</th>\n",
       "      <td>0016d14a-ae18-4a02-a204-6ba53b52f2ed</td>\n",
       "      <td>exposed</td>\n",
       "      <td>2020-07-05</td>\n",
       "      <td>2</td>\n",
       "      <td>E5823</td>\n",
       "      <td>6</td>\n",
       "      <td>Chrome Mobile WebView</td>\n",
       "      <td>0</td>\n",
       "      <td>1</td>\n",
       "    </tr>\n",
       "    <tr>\n",
       "      <th>3</th>\n",
       "      <td>00187412-2932-4542-a8ef-3633901c98d9</td>\n",
       "      <td>control</td>\n",
       "      <td>2020-07-03</td>\n",
       "      <td>15</td>\n",
       "      <td>Samsung SM-A705FN</td>\n",
       "      <td>6</td>\n",
       "      <td>Facebook</td>\n",
       "      <td>0</td>\n",
       "      <td>0</td>\n",
       "    </tr>\n",
       "    <tr>\n",
       "      <th>4</th>\n",
       "      <td>001a7785-d3fe-4e11-a344-c8735acacc2c</td>\n",
       "      <td>control</td>\n",
       "      <td>2020-07-03</td>\n",
       "      <td>15</td>\n",
       "      <td>Generic Smartphone</td>\n",
       "      <td>6</td>\n",
       "      <td>Chrome Mobile</td>\n",
       "      <td>0</td>\n",
       "      <td>0</td>\n",
       "    </tr>\n",
       "  </tbody>\n",
       "</table>\n",
       "</div>"
      ]
     },
     "metadata": {},
     "execution_count": 229
    }
   ],
   "metadata": {}
  },
  {
   "cell_type": "code",
   "execution_count": 230,
   "source": [
    "# Exploring Data types of a given data\n",
    "data.info()"
   ],
   "outputs": [
    {
     "output_type": "stream",
     "name": "stdout",
     "text": [
      "<class 'pandas.core.frame.DataFrame'>\n",
      "RangeIndex: 8077 entries, 0 to 8076\n",
      "Data columns (total 9 columns):\n",
      " #   Column       Non-Null Count  Dtype \n",
      "---  ------       --------------  ----- \n",
      " 0   auction_id   8077 non-null   object\n",
      " 1   experiment   8077 non-null   object\n",
      " 2   date         8077 non-null   object\n",
      " 3   hour         8077 non-null   int64 \n",
      " 4   device_make  8077 non-null   object\n",
      " 5   platform_os  8077 non-null   int64 \n",
      " 6   browser      8077 non-null   object\n",
      " 7   yes          8077 non-null   int64 \n",
      " 8   no           8077 non-null   int64 \n",
      "dtypes: int64(4), object(5)\n",
      "memory usage: 568.0+ KB\n"
     ]
    }
   ],
   "metadata": {}
  },
  {
   "cell_type": "markdown",
   "source": [
    "### The dataset has no missing Values, each column has 8077 entries"
   ],
   "metadata": {}
  },
  {
   "cell_type": "code",
   "execution_count": 231,
   "source": [
    "# Showing how many responded yes or no in both group\n",
    "print(pd.crosstab(data['experiment'], data['yes']))\n",
    "print(\"-----------------\")\n",
    "print(pd.crosstab(data['experiment'], data['no']))"
   ],
   "outputs": [
    {
     "output_type": "stream",
     "name": "stdout",
     "text": [
      "yes            0    1\n",
      "experiment           \n",
      "control     3807  264\n",
      "exposed     3698  308\n",
      "-----------------\n",
      "no             0    1\n",
      "experiment           \n",
      "control     3749  322\n",
      "exposed     3657  349\n"
     ]
    }
   ],
   "metadata": {}
  },
  {
   "cell_type": "markdown",
   "source": [
    "### Counting Users who belong to Control and Exposed Groups"
   ],
   "metadata": {}
  },
  {
   "cell_type": "code",
   "execution_count": 232,
   "source": [
    "# Out of Total Users, how many belongs the control and Exposed\n",
    "categories = [\"control\", \"exposed\"]\n",
    "for category in categories:\n",
    "    print(f\" {category} group has a total users of {data[data.experiment == category].experiment.count()}\")\n",
    "\n",
    "\n",
    "sns.catplot(x=\"experiment\", kind=\"count\", palette=\"ch:.25\", data=data)\n"
   ],
   "outputs": [
    {
     "output_type": "stream",
     "name": "stdout",
     "text": [
      " control group has a total users of 4071\n",
      " exposed group has a total users of 4006\n"
     ]
    },
    {
     "output_type": "execute_result",
     "data": {
      "text/plain": [
       "<seaborn.axisgrid.FacetGrid at 0x7f85caa197c0>"
      ]
     },
     "metadata": {},
     "execution_count": 232
    },
    {
     "output_type": "display_data",
     "data": {
      "text/plain": [
       "<Figure size 360x360 with 1 Axes>"
      ],
      "image/png": "[encoded data removed]"
     },
     "metadata": {}
    }
   ],
   "metadata": {}
  },
  {
   "cell_type": "markdown",
   "source": [
    "The Groups contains Almost the same number of users"
   ],
   "metadata": {}
  },
  {
   "cell_type": "code",
   "execution_count": 233,
   "source": [
    "#  Plotting functions\n",
    "def plot_bar(df:pd.DataFrame, x_col:str, y_col:str, title:str, xlabel:str, ylabel:str)->None:\n",
    "    plt.figure(figsize=(12, 7))\n",
    "    sns.barplot(data = df, x=x_col, y=y_col)\n",
    "    plt.title(title, size=20)\n",
    "    plt.xticks(rotation=75, fontsize=14)\n",
    "    plt.yticks( fontsize=14)\n",
    "    plt.xlabel(xlabel, fontsize=16)\n",
    "    plt.ylabel(ylabel, fontsize=16)\n",
    "    plt.show()\n",
    "\n",
    "def plot_hist(df:pd.DataFrame, column:str, color:str)->None:\n",
    "    sns.displot(data=df, x=column, color=color, kde=True, height=4, aspect=2)\n",
    "    plt.title(f'Distribution of {column}', size=20, fontweight='bold')\n",
    "    plt.show()"
   ],
   "outputs": [],
   "metadata": {}
  },
  {
   "cell_type": "markdown",
   "source": [
    "### There are 4071 Control group users and 4006 exposed group users"
   ],
   "metadata": {}
  },
  {
   "cell_type": "markdown",
   "source": [
    "### Counting the Users who responded and who doesn't"
   ],
   "metadata": {}
  },
  {
   "cell_type": "code",
   "execution_count": 234,
   "source": [
    "no_response = data[data.no ==0][data.yes ==0].auction_id.count()\n",
    "ambigous_response = data[data.no ==1][data.yes ==1].auction_id.count()\n",
    "total_users = data.auction_id.count()\n",
    "users_responded = total_users-no_response\n",
    "# f\" There are {loaded_data.shape[0]} rows and {loaded_data.shape[1]} columns of Telecom Users Data\"\n",
    "print(f\" Users that never Responded: {no_response} \")\n",
    "print(f\" Users that have  Ambigous Response - answered 1 in both 'yes', and 'no': {ambigous_response}\")\n",
    "print(f\" Users that  Responded: {users_responded} which is {round((users_responded/total_users)*100,2)} % of the total Uses\")\n",
    "\n",
    "series = pd.Series([no_response, ambigous_response,users_responded], \n",
    "                   index=[\"No Response\",\"Ambigous Response\", \"Responded\"])\n",
    "series.plot.pie(figsize=(6, 6))"
   ],
   "outputs": [
    {
     "output_type": "stream",
     "name": "stdout",
     "text": [
      " Users that never Responded: 6834 \n",
      " Users that have  Ambigous Response - answered 1 in both 'yes', and 'no': 0\n",
      " Users that  Responded: 1243 which is 15.39 % of the total Uses\n"
     ]
    },
    {
     "output_type": "stream",
     "name": "stderr",
     "text": [
      "<ipython-input-234-f34fac6eb99c>:1: UserWarning: Boolean Series key will be reindexed to match DataFrame index.\n",
      "  no_response = data[data.no ==0][data.yes ==0].auction_id.count()\n",
      "<ipython-input-234-f34fac6eb99c>:2: UserWarning: Boolean Series key will be reindexed to match DataFrame index.\n",
      "  ambigous_response = data[data.no ==1][data.yes ==1].auction_id.count()\n"
     ]
    },
    {
     "output_type": "execute_result",
     "data": {
      "text/plain": [
       "<AxesSubplot:ylabel='None'>"
      ]
     },
     "metadata": {},
     "execution_count": 234
    },
    {
     "output_type": "display_data",
     "data": {
      "text/plain": [
       "<Figure size 432x432 with 1 Axes>"
      ],
      "image/png": "[encoded data removed]"
     },
     "metadata": {}
    }
   ],
   "metadata": {}
  },
  {
   "cell_type": "markdown",
   "source": [
    "### The User Responded to the Ad is 15.39% to the total Users"
   ],
   "metadata": {}
  },
  {
   "cell_type": "markdown",
   "source": [
    "### Checking if there are same users in multiple rows"
   ],
   "metadata": {}
  },
  {
   "cell_type": "code",
   "execution_count": 235,
   "source": [
    "unique_users = data['auction_id'].unique()\n",
    "print(len(unique_users))"
   ],
   "outputs": [
    {
     "output_type": "stream",
     "name": "stdout",
     "text": [
      "8077\n"
     ]
    }
   ],
   "metadata": {}
  },
  {
   "cell_type": "markdown",
   "source": [
    "### Making Dataset that contains Users who Responded, Droping Users who didn't Respond and Saving as CSV"
   ],
   "metadata": {}
  },
  {
   "cell_type": "code",
   "execution_count": 224,
   "source": [
    "# index_to_drop = data[(data['yes']==0) & (data['no']==0)].index\n",
    "# # # Delete these row indexes from dataFrame\n",
    "\n",
    "# data.drop(index_to_drop , inplace=True)\n",
    "# # print(index_to_drop)\n",
    "# data.to_csv('../data/Resp_dataSet.csv', index=False)"
   ],
   "outputs": [],
   "metadata": {}
  },
  {
   "cell_type": "code",
   "execution_count": 236,
   "source": [
    "#  Loading data with users response\n",
    "resp_data=pd.read_csv('../data/Resp_dataSet.csv')\n",
    "resp_data.info()"
   ],
   "outputs": [
    {
     "output_type": "stream",
     "name": "stdout",
     "text": [
      "<class 'pandas.core.frame.DataFrame'>\n",
      "RangeIndex: 1243 entries, 0 to 1242\n",
      "Data columns (total 9 columns):\n",
      " #   Column       Non-Null Count  Dtype \n",
      "---  ------       --------------  ----- \n",
      " 0   auction_id   1243 non-null   object\n",
      " 1   experiment   1243 non-null   object\n",
      " 2   date         1243 non-null   object\n",
      " 3   hour         1243 non-null   int64 \n",
      " 4   device_make  1243 non-null   object\n",
      " 5   platform_os  1243 non-null   int64 \n",
      " 6   browser      1243 non-null   object\n",
      " 7   yes          1243 non-null   int64 \n",
      " 8   no           1243 non-null   int64 \n",
      "dtypes: int64(4), object(5)\n",
      "memory usage: 87.5+ KB\n"
     ]
    }
   ],
   "metadata": {}
  },
  {
   "cell_type": "code",
   "execution_count": 241,
   "source": [
    "# data.info()"
   ],
   "outputs": [],
   "metadata": {}
  },
  {
   "cell_type": "markdown",
   "source": [
    "### All Users are Uniques, there is no duplicates"
   ],
   "metadata": {}
  },
  {
   "cell_type": "markdown",
   "source": [
    "### Exploration of Response against Date, time, device, and Browsers"
   ],
   "metadata": {}
  },
  {
   "cell_type": "code",
   "execution_count": 244,
   "source": [
    "# Response Against Date\n",
    "unique_date = data['date'].unique()\n",
    "print(unique_date)\n",
    "sns.set_theme(style=\"ticks\", color_codes=True)\n",
    "print(\"Users shown Ads against date, shown in First figure\")\n",
    "sns.catplot(y=\"date\", kind=\"count\", palette=\"ch:.25\", hue=\"experiment\",data=data)\n",
    "\n",
    "print(\"Users who Responded to shown Ads against date, shown in second figure\")\n",
    "sns.catplot(y=\"date\", kind=\"count\", palette=\"ch:.25\", hue=\"experiment\",data=resp_data)"
   ],
   "outputs": [
    {
     "output_type": "stream",
     "name": "stdout",
     "text": [
      "['2020-07-10' '2020-07-07' '2020-07-05' '2020-07-03' '2020-07-09'\n",
      " '2020-07-04' '2020-07-06' '2020-07-08']\n",
      "Users shown Ads against date, shown in First figure\n",
      "Users who Responded to shown Ads against date, shown in second figure\n"
     ]
    },
    {
     "output_type": "execute_result",
     "data": {
      "text/plain": [
       "<seaborn.axisgrid.FacetGrid at 0x7f85c6eff550>"
      ]
     },
     "metadata": {},
     "execution_count": 244
    },
    {
     "output_type": "display_data",
     "data": {
      "text/plain": [
       "<Figure size 446.1x360 with 1 Axes>"
      ],
      "image/png": "[encoded data removed]"
     },
     "metadata": {}
    },
    {
     "output_type": "display_data",
     "data": {
      "text/plain": [
       "<Figure size 446.1x360 with 1 Axes>"
      ],
      "image/png": "[encoded data removed]"
     },
     "metadata": {}
    }
   ],
   "metadata": {}
  },
  {
   "cell_type": "markdown",
   "source": [
    "### There is no significant relationship between Response and the Date the user(s) were shown the Ads"
   ],
   "metadata": {}
  },
  {
   "cell_type": "markdown",
   "source": [
    "### Data exploration against Time"
   ],
   "metadata": {}
  },
  {
   "cell_type": "code",
   "execution_count": null,
   "source": [
    "unique_date = data['date'].unique()\n",
    "print(unique_date)\n",
    "sns.set_theme(style=\"ticks\", color_codes=True)\n",
    "print(\"Users shown Ads against date, shown in First figure\")\n",
    "sns.catplot(y=\"date\", kind=\"count\", palette=\"ch:.25\", hue=\"experiment\",data=data)\n",
    "\n",
    "print(\"Users who Responded to shown Ads against date, shown in second figure\")\n",
    "sns.catplot(y=\"date\", kind=\"count\", palette=\"ch:.25\", hue=\"experiment\",data=resp_data)"
   ],
   "outputs": [],
   "metadata": {}
  }
 ],
 "metadata": {
  "orig_nbformat": 4,
  "language_info": {
   "name": "python"
  }
 },
 "nbformat": 4,
 "nbformat_minor": 2
}